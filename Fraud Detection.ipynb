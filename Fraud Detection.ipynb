{
 "cells": [
  {
   "cell_type": "markdown",
   "metadata": {},
   "source": [
    "# Detekcija pronevere kod kreditnih kartica"
   ]
  },
  {
   "cell_type": "markdown",
   "metadata": {},
   "source": [
    "# O DataSetu:\n",
    "\n",
    "Dataset sadrži transakcije kreditnim karticama koje su se desile u dva dana, u septembru 2013 u Evropi. Imamo 492 pronevere od 284,807 transakcija. Dataset je jako nebalansovan, pozitivna klasa (pronevere) su 0.172% svih transakcija.\n",
    "\n",
    "Zbog konfidencijalnih razloga feature-i V1, V2, ... V28 su prošli kroz PCA transformaciju i nemamo informacije o njima. Jedini feature-i koji nisu prošli kroz transformaciju su 'Time' i 'Amount'. 'Time' sadrži vreme koje je prošlo između prve transakcije i svake transakcije u datasetu. 'Amount' predstavlja količinu novca u transakciji. 'Class' ima vrednost 1 ako je u pitanju pronevera i 0 u suprotnom.\n",
    "\n",
    "\n",
    "## Problem koji se rešava:\n",
    "\n",
    "Bitno je da kompanije koje izdaju kreditne kartice mogu da prepoznaju lažne transakcije kreditnim karticama, da se klijentima ne naplaćuje roba koju nisu kupili. Isprojektovati predikcioni model koji precizno klasifikuje transakcije.\n",
    "\n",
    "\n",
    "## Rezime dataseta:\n",
    "<ul>\n",
    "    <li>Nema null vrednosti.</li>\n",
    "    <li>Većina feature-a je prošlo kroz PCA transformaciju. Da bi prošle kroz PCA transformaciju, vrednosti moraju prethodno biti skalirane</li>\n",
    "    <li>Transakcije su izuzetno nebalansovane. Normalne su (99.828%) dok su pronevere (0.172%).</li>\n",
    "</ul>\n",
    "\n",
    "## Metrika kvaliteta i validacija resenja:\n",
    "\n",
    "Kao metriku kvaliteta koristiće se recall score, a za validaciju resenja cross-validation."
   ]
  },
  {
   "cell_type": "code",
   "execution_count": 2,
   "metadata": {},
   "outputs": [
    {
     "name": "stderr",
     "output_type": "stream",
     "text": [
      "Using TensorFlow backend.\n"
     ]
    },
    {
     "name": "stdout",
     "output_type": "stream",
     "text": [
      "   Time        V1        V2        V3        V4        V5        V6        V7  \\\n",
      "0   0.0 -1.359807 -0.072781  2.536347  1.378155 -0.338321  0.462388  0.239599   \n",
      "1   0.0  1.191857  0.266151  0.166480  0.448154  0.060018 -0.082361 -0.078803   \n",
      "2   1.0 -1.358354 -1.340163  1.773209  0.379780 -0.503198  1.800499  0.791461   \n",
      "3   1.0 -0.966272 -0.185226  1.792993 -0.863291 -0.010309  1.247203  0.237609   \n",
      "4   2.0 -1.158233  0.877737  1.548718  0.403034 -0.407193  0.095921  0.592941   \n",
      "\n",
      "         V8        V9  ...       V21       V22       V23       V24       V25  \\\n",
      "0  0.098698  0.363787  ... -0.018307  0.277838 -0.110474  0.066928  0.128539   \n",
      "1  0.085102 -0.255425  ... -0.225775 -0.638672  0.101288 -0.339846  0.167170   \n",
      "2  0.247676 -1.514654  ...  0.247998  0.771679  0.909412 -0.689281 -0.327642   \n",
      "3  0.377436 -1.387024  ... -0.108300  0.005274 -0.190321 -1.175575  0.647376   \n",
      "4 -0.270533  0.817739  ... -0.009431  0.798278 -0.137458  0.141267 -0.206010   \n",
      "\n",
      "        V26       V27       V28  Amount  Class  \n",
      "0 -0.189115  0.133558 -0.021053  149.62      0  \n",
      "1  0.125895 -0.008983  0.014724    2.69      0  \n",
      "2 -0.139097 -0.055353 -0.059752  378.66      0  \n",
      "3 -0.221929  0.062723  0.061458  123.50      0  \n",
      "4  0.502292  0.219422  0.215153   69.99      0  \n",
      "\n",
      "[5 rows x 31 columns]\n"
     ]
    }
   ],
   "source": [
    "import pandas as pd\n",
    "import matplotlib.pyplot as plt\n",
    "import numpy as np\n",
    "import tensorflow as tf\n",
    "from sklearn.model_selection import train_test_split\n",
    "from sklearn.model_selection import StratifiedShuffleSplit\n",
    "from sklearn.preprocessing import StandardScaler, RobustScaler\n",
    "from sklearn.model_selection import KFold, StratifiedKFold\n",
    "import seaborn as sns\n",
    "from sklearn.model_selection import GridSearchCV\n",
    "from sklearn.metrics import roc_curve\n",
    "from sklearn.model_selection import cross_val_predict\n",
    "from sklearn.metrics import roc_auc_score\n",
    "from sklearn.metrics import classification_report\n",
    "\n",
    "# Classifier Libraries\n",
    "from sklearn.linear_model import LogisticRegression\n",
    "from sklearn.svm import SVC\n",
    "from sklearn.neighbors import KNeighborsClassifier\n",
    "from sklearn.tree import DecisionTreeClassifier\n",
    "from sklearn.ensemble import RandomForestClassifier\n",
    "from sklearn.model_selection import cross_val_score\n",
    "from scipy.stats import norm\n",
    "import collections\n",
    "import pickle\n",
    "\n",
    "#Neural Network imports\n",
    "import keras\n",
    "from keras import backend as K\n",
    "from keras.models import Sequential\n",
    "from keras.layers import Activation\n",
    "from keras.layers.core import Dense\n",
    "from keras.optimizers import Adam\n",
    "from keras.metrics import categorical_crossentropy\n",
    "\n",
    "#Oversampling (SMOTE)\n",
    "from imblearn.over_sampling import SMOTE\n",
    "from sklearn.model_selection import RandomizedSearchCV\n",
    "\n",
    "import warnings\n",
    "warnings.filterwarnings(\"ignore\")\n",
    "\n",
    "data = pd.read_csv('creditcard.csv')\n",
    "print(data.head())"
   ]
  },
  {
   "cell_type": "code",
   "execution_count": 3,
   "metadata": {
    "scrolled": true
   },
   "outputs": [
    {
     "data": {
      "text/plain": [
       "0"
      ]
     },
     "execution_count": 3,
     "metadata": {},
     "output_type": "execute_result"
    }
   ],
   "source": [
    "data.isnull().sum().max()"
   ]
  },
  {
   "cell_type": "markdown",
   "metadata": {},
   "source": [
    "Nema null vrednosti."
   ]
  },
  {
   "cell_type": "code",
   "execution_count": 4,
   "metadata": {},
   "outputs": [
    {
     "name": "stdout",
     "output_type": "stream",
     "text": [
      "No Frauds 99.83 % of the dataset\n",
      "Frauds 0.17 % of the dataset\n"
     ]
    },
    {
     "data": {
      "image/png": "[encoded data removed]",
      "text/plain": [
       "<Figure size 432x288 with 1 Axes>"
      ]
     },
     "metadata": {
      "needs_background": "light"
     },
     "output_type": "display_data"
    }
   ],
   "source": [
    "count_classes = pd.value_counts(data['Class'], sort=True).sort_index()\n",
    "count_classes.plot(kind='bar')\n",
    "\n",
    "print('No Frauds', round(data['Class'].value_counts()[0]/len(data) * 100, 2), '% of the dataset')\n",
    "print('Frauds', round(data['Class'].value_counts()[1]/len(data) * 100, 2), '% of the dataset')\n",
    "\n",
    "plt.title(\"Fraud classes\")\n",
    "plt.xlabel(\"Class\")\n",
    "plt.ylabel(\"Frequency\")\n",
    "plt.show()"
   ]
  },
  {
   "cell_type": "markdown",
   "metadata": {},
   "source": [
    "# Pošto je većina kolona vec skalirana, trebalo bi skalirati i ostale kolone (Amount i Time).\n",
    "Pravim nove kolone: scaled_time i scaled_amount koje ću zameniti u datasetu. Koristim RobustScaler jer bolje hendla outlier-e od StandardScaler-a."
   ]
  },
  {
   "cell_type": "code",
   "execution_count": 5,
   "metadata": {},
   "outputs": [
    {
     "name": "stdout",
     "output_type": "stream",
     "text": [
      "Normalizovane vrednosti: \n",
      "   scaled_amount  scaled_time        V1        V2        V3        V4  \\\n",
      "0       1.783274    -0.994983 -1.359807 -0.072781  2.536347  1.378155   \n",
      "1      -0.269825    -0.994983  1.191857  0.266151  0.166480  0.448154   \n",
      "2       4.983721    -0.994972 -1.358354 -1.340163  1.773209  0.379780   \n",
      "3       1.418291    -0.994972 -0.966272 -0.185226  1.792993 -0.863291   \n",
      "4       0.670579    -0.994960 -1.158233  0.877737  1.548718  0.403034   \n",
      "\n",
      "         V5        V6        V7        V8  ...       V20       V21       V22  \\\n",
      "0 -0.338321  0.462388  0.239599  0.098698  ...  0.251412 -0.018307  0.277838   \n",
      "1  0.060018 -0.082361 -0.078803  0.085102  ... -0.069083 -0.225775 -0.638672   \n",
      "2 -0.503198  1.800499  0.791461  0.247676  ...  0.524980  0.247998  0.771679   \n",
      "3 -0.010309  1.247203  0.237609  0.377436  ... -0.208038 -0.108300  0.005274   \n",
      "4 -0.407193  0.095921  0.592941 -0.270533  ...  0.408542 -0.009431  0.798278   \n",
      "\n",
      "        V23       V24       V25       V26       V27       V28  Class  \n",
      "0 -0.110474  0.066928  0.128539 -0.189115  0.133558 -0.021053      0  \n",
      "1  0.101288 -0.339846  0.167170  0.125895 -0.008983  0.014724      0  \n",
      "2  0.909412 -0.689281 -0.327642 -0.139097 -0.055353 -0.059752      0  \n",
      "3 -0.190321 -1.175575  0.647376 -0.221929  0.062723  0.061458      0  \n",
      "4 -0.137458  0.141267 -0.206010  0.502292  0.219422  0.215153      0  \n",
      "\n",
      "[5 rows x 31 columns]\n"
     ]
    }
   ],
   "source": [
    "from sklearn.preprocessing import StandardScaler, RobustScaler\n",
    "\n",
    "#std_scaler = StandardScaler()\n",
    "rob_scaler = RobustScaler()\n",
    "\n",
    "data['scaled_amount'] = rob_scaler.fit_transform(data['Amount'].values.reshape(-1, 1))\n",
    "data['scaled_time'] = rob_scaler.fit_transform(data['Time'].values.reshape(-1, 1))\n",
    "\n",
    "# Hocu da dropujem kolone time i amount i da vratim skalirane kolone u dataset\n",
    "data.drop(['Time', 'Amount'], axis=1, inplace=True)\n",
    "scaled_amount = data['scaled_amount']\n",
    "scaled_time = data['scaled_time']\n",
    "\n",
    "data.drop(['scaled_amount', 'scaled_time'], axis=1, inplace=True)\n",
    "data.insert(0, 'scaled_amount', scaled_amount)\n",
    "data.insert(1, 'scaled_time', scaled_time)\n",
    "\n",
    "print(\"Normalizovane vrednosti: \")\n",
    "print(data.head())"
   ]
  },
  {
   "cell_type": "markdown",
   "metadata": {},
   "source": [
    "# Separacija podataka od originalnog dataseta za trening skup\n",
    "\n",
    "Koristim StratifiedKFold jer će se podaci shuffle-ovati jedanput na pocetku i podeliti na K delova, gde je test uvek jedan od delova. Kod StratifiedShuffleSplit može doci do preklapanja (overlap) u test setu. Posle pretvaram vrednosti u niz da bi bile spremne za testiranje."
   ]
  },
  {
   "cell_type": "code",
   "execution_count": 6,
   "metadata": {},
   "outputs": [
    {
     "name": "stdout",
     "output_type": "stream",
     "text": [
      "Train: [ 30473  30496  31002 ... 284804 284805 284806] Test: [    0     1     2 ... 57017 57018 57019]\n",
      "Train: [     0      1      2 ... 284804 284805 284806] Test: [ 30473  30496  31002 ... 113964 113965 113966]\n",
      "Train: [     0      1      2 ... 284804 284805 284806] Test: [ 81609  82400  83053 ... 170946 170947 170948]\n",
      "Train: [     0      1      2 ... 284804 284805 284806] Test: [150654 150660 150661 ... 227866 227867 227868]\n",
      "Train: [     0      1      2 ... 227866 227867 227868] Test: [212516 212644 213092 ... 284804 284805 284806]\n"
     ]
    }
   ],
   "source": [
    "X = data.drop('Class', axis=1)\n",
    "y = data['Class']\n",
    "\n",
    "skf = StratifiedKFold(n_splits=5, random_state=None, shuffle=False)  # koristim 5 splitova\n",
    "for train_index, test_index in skf.split(X, y):\n",
    "    print(\"Train:\", train_index, \"Test:\", test_index)\n",
    "    original_Xtrain, original_Xtest = X.iloc[train_index], X.iloc[test_index]\n",
    "    original_ytrain, original_ytest = y.iloc[train_index], y.iloc[test_index]\n",
    "\n",
    "# Turn into an array\n",
    "original_Xtrain = original_Xtrain.values\n",
    "original_Xtest = original_Xtest.values\n",
    "original_ytrain = original_ytrain.values\n",
    "original_ytest = original_ytest.values"
   ]
  },
  {
   "cell_type": "markdown",
   "metadata": {},
   "source": [
    "# Undersampling\n",
    "\n",
    "Ideja je da se napravi sub-sample sa odnosom 50/50 za klase da bi se stvorio balansovan odnos transakcija u datasetu.\n",
    "Prvo sam sračunao da ima 492 instance pronevere, tj toliko puta se pojavi Class = 1. Najveća mana undersampling-a je što postoji rizik da klasifikacioni modeli nece biti toliko precizni, jer postoji ogroman gubitak informacija. (Korišćenje 492 obične transakcije od 284,315 običnih transakcija)"
   ]
  },
  {
   "cell_type": "code",
   "execution_count": 7,
   "metadata": {},
   "outputs": [
    {
     "name": "stdout",
     "output_type": "stream",
     "text": [
      "Number of fraud transactions:  492\n",
      "\n",
      "\n",
      "        scaled_amount  scaled_time        V1        V2        V3        V4  \\\n",
      "77055       -0.296793    -0.326907  1.283910  0.124914 -0.577868  0.685285   \n",
      "237107      -0.307413     0.756635  1.184891  3.152084 -6.134780  5.531252   \n",
      "192899       1.369384     0.531115 -1.881048 -1.789943  0.372067 -2.931045   \n",
      "79883        3.465381    -0.310976 -1.322789  1.552768 -2.276921  2.992117   \n",
      "163149      -0.069028     0.364184 -1.550273  1.088689 -2.393388  1.008733   \n",
      "\n",
      "              V5        V6        V7        V8  ...       V20       V21  \\\n",
      "77055   0.805750  0.860454  0.019234  0.214941  ... -0.205627 -0.082431   \n",
      "237107  1.733867 -1.816861 -0.916696  0.265568  ...  0.336442  0.124236   \n",
      "192899  0.324594 -0.204295 -0.392266  0.048830  ... -0.549847 -0.329539   \n",
      "79883  -1.947064 -0.480288 -1.362388  0.953242  ...  0.988493  0.614969   \n",
      "163149 -1.087562 -1.104602 -2.670503  0.147655  ...  0.327490  0.802316   \n",
      "\n",
      "             V22       V23       V24       V25       V26       V27       V28  \\\n",
      "77055  -0.108360 -0.331218 -1.723026  0.937856 -0.153127  0.014583 -0.020290   \n",
      "237107 -0.823865 -0.079887  0.028828  0.389711  0.060171  0.485187  0.326552   \n",
      "192899  0.122122  0.365969  0.080818  0.149606 -0.249088  0.585726  0.270218   \n",
      "79883  -0.195200  0.590711 -0.233378 -0.164285 -0.277498  0.428610  0.246394   \n",
      "163149  1.037105  0.095815 -0.320191 -0.080731  0.091012  0.024928 -0.077820   \n",
      "\n",
      "        Class  \n",
      "77055       0  \n",
      "237107      1  \n",
      "192899      0  \n",
      "79883       1  \n",
      "163149      1  \n",
      "\n",
      "[5 rows x 31 columns]\n"
     ]
    }
   ],
   "source": [
    "#Shuffle podataka. Nije obavezan.\n",
    "data = data.sample(frac=1)\n",
    "\n",
    "fraud_data = data.loc[data['Class'] == 1] # uzimam sve podatke gde je class = 1\n",
    "print('Number of fraud transactions: ', len(fraud_data.index))\n",
    "non_fraud_data = data.loc[data['Class'] == 0][:492]  # uzimam 492 podatka koji nisu fraud iz shuffle-ovanih podataka\n",
    "\n",
    "normal_distributed_data = pd.concat([fraud_data, non_fraud_data])\n",
    "# Shuffle dataframe rows\n",
    "# Shuffle the data to see if our models can maintain a certain accuracy everytime we run this script\n",
    "new_data = normal_distributed_data.sample(frac=1, random_state=42)\n",
    "print('\\n')\n",
    "print(new_data.head())"
   ]
  },
  {
   "cell_type": "markdown",
   "metadata": {},
   "source": [
    "# Oversampling (SMOTE)\n",
    "\n",
    "Smote(Synthetic Minority Oversampling Technique) kreira nove sintetičke transakcije manjinske klase, da bi stvorio balans u datasetu. Smote bira distancu između najbližih komšija manjinske klase i izmedju njih kreira nove sintetičke tačke (transakcije). Time nismo izgubili informacije kao kod undersampling-a i verovatnije je da će model biti precizniji, ali će zahtevati vise vremena za obučavanje."
   ]
  },
  {
   "cell_type": "code",
   "execution_count": 8,
   "metadata": {},
   "outputs": [],
   "source": [
    "sm = SMOTE(ratio='minority', random_state=42)\n",
    "Xsm_train, ysm_train = sm.fit_sample(original_Xtrain, original_ytrain)"
   ]
  },
  {
   "cell_type": "markdown",
   "metadata": {},
   "source": [
    "# Istraživanje korelacija izmedju feature-a\n",
    "\n",
    "Korelacione matrice su nam bitne da bismo zaključili kako koji feature-i utiču na to da li je transakcija pronevera ili nije. Neophodno je da dataset bude balansovan da bismo mogli da vidimo koji feature-i imaju visoku pozitivnu ili negativnu korelaciju sa klasifikacijom(Class feature-om)."
   ]
  },
  {
   "cell_type": "code",
   "execution_count": 9,
   "metadata": {},
   "outputs": [
    {
     "name": "stdout",
     "output_type": "stream",
     "text": [
      "Distribution of the Classes in the subsample dataset\n",
      "1    0.5\n",
      "0    0.5\n",
      "Name: Class, dtype: float64\n"
     ]
    },
    {
     "data": {
      "image/png": "[encoded data removed]",
      "text/plain": [
       "<Figure size 432x288 with 1 Axes>"
      ]
     },
     "metadata": {
      "needs_background": "light"
     },
     "output_type": "display_data"
    },
    {
     "name": "stdout",
     "output_type": "stream",
     "text": [
      "Distribution of the Classes in the oversample dataset\n",
      "After OverSampling, counts of label '1': 227452\n",
      "After OverSampling, counts of label '0': 227452\n"
     ]
    }
   ],
   "source": [
    "\n",
    "print('Distribution of the Classes in the subsample dataset')\n",
    "print(new_data['Class'].value_counts()/len(new_data))\n",
    "\n",
    "sns.countplot('Class', data=new_data)\n",
    "plt.title('Equally Distributed Classes', fontsize=14)\n",
    "plt.show()\n",
    "\n",
    "print('Distribution of the Classes in the oversample dataset')\n",
    "print(\"After OverSampling, counts of label '1': {}\".format(sum(ysm_train==1)))\n",
    "print(\"After OverSampling, counts of label '0': {}\".format(sum(ysm_train==0)))"
   ]
  },
  {
   "cell_type": "code",
   "execution_count": 10,
   "metadata": {},
   "outputs": [
    {
     "data": {
      "image/png": "[encoded data removed]",
      "text/plain": [
       "<Figure size 1080x360 with 2 Axes>"
      ]
     },
     "metadata": {
      "needs_background": "light"
     },
     "output_type": "display_data"
    }
   ],
   "source": [
    "f,  ax2 = plt.subplots(1, 1, figsize=(15, 5))\n",
    "\n",
    "sub_sample_corr = new_data.corr()\n",
    "sns.heatmap(sub_sample_corr, cmap='coolwarm_r', annot_kws={'size':20}, ax=ax2)\n",
    "ax2.set_title('SubSample Correlation Matrix', fontsize=14)\n",
    "plt.show()"
   ]
  },
  {
   "cell_type": "markdown",
   "metadata": {},
   "source": [
    "# Šta smo zaključili?\n",
    "\n",
    "Visoku pozitivnu korelaciju sa feature-om 'Class' imaju: V2, V4, V11, V19\n",
    "Visoku negativnu korelaciju sa feature-om 'Class' imaju: V10, V12, V14, V17\n",
    "\n",
    "Negativna korelacija znaci da što je vrednost našeg feature-a manja, to je veća verovatnoća da će transakcija biti pronevera.\n",
    "Pozitivna korelacija znaci da što je vrednost našeg feature-a veća, to je veća verovatnoća da će transakcija biti pronevera.\n",
    "\n",
    "![title](outliers.png)"
   ]
  },
  {
   "cell_type": "code",
   "execution_count": 11,
   "metadata": {},
   "outputs": [
    {
     "data": {
      "text/plain": [
       "Text(0.5, 1.0, 'V10 vs Class Negative Correlation')"
      ]
     },
     "execution_count": 11,
     "metadata": {},
     "output_type": "execute_result"
    },
    {
     "data": {
      "image/png": "[encoded data removed]",
      "text/plain": [
       "<Figure size 1440x288 with 4 Axes>"
      ]
     },
     "metadata": {
      "needs_background": "light"
     },
     "output_type": "display_data"
    }
   ],
   "source": [
    "f, axes = plt.subplots(ncols=4, figsize=(20,4))\n",
    "\n",
    "sns.boxplot(x=\"Class\", y=\"V17\", data=new_data, ax=axes[0])\n",
    "axes[0].set_title('V17 vs Class Negative Correlation')\n",
    "\n",
    "\n",
    "sns.boxplot(x=\"Class\", y=\"V14\", data=new_data,  ax=axes[1])\n",
    "axes[1].set_title('V14 vs Class Negative Correlation')\n",
    "\n",
    "\n",
    "sns.boxplot(x=\"Class\", y=\"V12\", data=new_data,  ax=axes[2])\n",
    "axes[2].set_title('V12 vs Class Negative Correlation')\n",
    "\n",
    "\n",
    "sns.boxplot(x=\"Class\", y=\"V10\", data=new_data, ax=axes[3])\n",
    "axes[3].set_title('V10 vs Class Negative Correlation')\n",
    "#plt.show()"
   ]
  },
  {
   "cell_type": "code",
   "execution_count": 12,
   "metadata": {},
   "outputs": [
    {
     "data": {
      "text/plain": [
       "Text(0.5, 1.0, 'V19 vs Class Positive Correlation')"
      ]
     },
     "execution_count": 12,
     "metadata": {},
     "output_type": "execute_result"
    },
    {
     "data": {
      "image/png": "[encoded data removed]",
      "text/plain": [
       "<Figure size 1440x288 with 4 Axes>"
      ]
     },
     "metadata": {
      "needs_background": "light"
     },
     "output_type": "display_data"
    }
   ],
   "source": [
    "f, axes = plt.subplots(ncols=4, figsize=(20,4))\n",
    "\n",
    "sns.boxplot(x=\"Class\", y=\"V11\", data=new_data,  ax=axes[0])\n",
    "axes[0].set_title('V11 vs Class Positive Correlation')\n",
    "\n",
    "sns.boxplot(x=\"Class\", y=\"V4\", data=new_data,  ax=axes[1])\n",
    "axes[1].set_title('V4 vs Class Positive Correlation')\n",
    "\n",
    "\n",
    "sns.boxplot(x=\"Class\", y=\"V2\", data=new_data,  ax=axes[2])\n",
    "axes[2].set_title('V2 vs Class Positive Correlation')\n",
    "\n",
    "\n",
    "sns.boxplot(x=\"Class\", y=\"V19\", data=new_data,  ax=axes[3])\n",
    "axes[3].set_title('V19 vs Class Positive Correlation')\n",
    "\n",
    "#plt.show()"
   ]
  },
  {
   "cell_type": "markdown",
   "metadata": {},
   "source": [
    "# Uklanjanje outlier-a (Interquartile range method)\n",
    "\n",
    "Outlier-i su opservacije koje su jako retke, jedinstvene i ne uklapaju se. Često su posledica grešaka, korupcije podataka, a nekad mogu da budu tačne.\n",
    "\n",
    "IQR(Interquartile range method) je statistički metod za uklanjanje outlier-a. Ideja je da se uklone ekstremni outlieri da bismo poboljšali preciznost modela, pri čemu se mora paziti da ne dođe do gubitka informacija sto bi prouzrokovalo manju preciznost modela. IQR odseca krajeve distribucije i ostavlja glavni deo. Za prag odsecanja koristicemo vrednost 1.5\n",
    "\n",
    "<ul>\n",
    "    <li>Prvo ćemo vizualizovati distribucije vrednosti feature-a koji utiču na klasu. V14 je jedini feature koji ima normalnu distribuciju.</li>\n",
    "    <li>Odredićemo granicu odsecanja tako što ćemo od q25 oduzeti razliku (q75-q25)*1.5 dok ćemo q75 sabrati sa istim. Sve vrednosti koje su ispod ili iznad ove granice će biti uklonjene.</li>\n",
    "<ul>\n",
    "    \n"
   ]
  },
  {
   "cell_type": "code",
   "execution_count": 13,
   "metadata": {},
   "outputs": [
    {
     "data": {
      "image/png": "[encoded data removed]",
      "text/plain": [
       "<Figure size 1440x432 with 3 Axes>"
      ]
     },
     "metadata": {
      "needs_background": "light"
     },
     "output_type": "display_data"
    }
   ],
   "source": [
    "f, (ax1, ax2, ax3) = plt.subplots(1, 3, figsize=(20, 6))\n",
    "v14_fraud_dist = new_data['V14'].loc[new_data['Class'] == 1].values\n",
    "sns.distplot(v14_fraud_dist, ax=ax1, fit=norm, color='#FB8861')\n",
    "ax1.set_title('V14 Distribution \\n (Fraud Transactions)', fontsize=14)\n",
    "\n",
    "v12_fraud_dist = new_data['V12'].loc[new_data['Class'] == 1].values\n",
    "sns.distplot(v12_fraud_dist, ax=ax2, fit=norm, color='#56F9BB')\n",
    "ax2.set_title('V12 Distribution \\n (Fraud Transactions)', fontsize=14)\n",
    "\n",
    "\n",
    "v10_fraud_dist = new_data['V10'].loc[new_data['Class'] == 1].values\n",
    "sns.distplot(v10_fraud_dist, ax=ax3, fit=norm, color='#C5B3F9')\n",
    "ax3.set_title('V10 Distribution \\n (Fraud Transactions)', fontsize=14)\n",
    "\n",
    "plt.show()"
   ]
  },
  {
   "cell_type": "code",
   "execution_count": 14,
   "metadata": {},
   "outputs": [
    {
     "name": "stdout",
     "output_type": "stream",
     "text": [
      "V14 Lower: -17.807576138200663\n",
      "V14 Upper: 3.8320323237414122\n",
      "Feature V14 Outliers for Fraud Cases: 4\n",
      "V10 outliers:[-18.049997689859396, -19.2143254902614, -18.8220867423816, -18.4937733551053]\n",
      "Number of Instances after outliers removal: 979\n",
      "--------------------------------------------------------------------------------------------------------------------------------------------------------------------------------\n",
      "V12 Lower: -17.3430371579634\n",
      "V12 Upper: 5.776973384895937\n",
      "V12 outliers: [-18.4311310279993, -18.047596570821604, -18.683714633344298, -18.553697009645802]\n",
      "Feature V12 Outliers for Fraud Cases: 4\n",
      "Number of Instances after outliers removal: 975\n",
      "--------------------------------------------------------------------------------------------------------------------------------------------------------------------------------\n",
      "V10 Lower: -14.89885463232024\n",
      "V10 Upper: 4.920334958342141\n",
      "V10 outliers: [-16.3035376590131, -16.6496281595399, -18.9132433348732, -17.141513641289198, -24.5882624372475, -15.124162814494698, -15.1237521803455, -14.9246547735487, -22.1870885620007, -24.403184969972802, -15.2318333653018, -14.9246547735487, -15.346098846877501, -15.563791338730098, -15.2399619587112, -19.836148851696, -22.1870885620007, -15.2399619587112, -22.1870885620007, -23.2282548357516, -16.7460441053944, -15.563791338730098, -20.949191554361104, -16.2556117491401, -22.1870885620007, -16.6011969664137, -18.2711681738888]\n",
      "Feature V10 Outliers for Fraud Cases: 27\n",
      "Number of Instances after outliers removal: 947\n"
     ]
    }
   ],
   "source": [
    "# # -----> V14 Removing Outliers (Highest Negative Correlated with Labels)\n",
    "v14_fraud = new_data['V14'].loc[new_data['Class'] == 1].values\n",
    "q25, q75 = np.percentile(v14_fraud, 25), np.percentile(v14_fraud, 75)\n",
    "v14_iqr = q75 - q25\n",
    "\n",
    "v14_cut_off = v14_iqr * 1.5\n",
    "v14_lower, v14_upper = q25 - v14_cut_off, q75 + v14_cut_off\n",
    "print('V14 Lower: {}'.format(v14_lower))\n",
    "print('V14 Upper: {}'.format(v14_upper))\n",
    "\n",
    "outliers = [x for x in v14_fraud if x < v14_lower or x > v14_upper]\n",
    "print('Feature V14 Outliers for Fraud Cases: {}'.format(len(outliers)))\n",
    "print('V10 outliers:{}'.format(outliers))\n",
    "\n",
    "new_data = new_data.drop(new_data[(new_data['V14'] > v14_upper) | (new_data['V14'] < v14_lower)].index)\n",
    "print('Number of Instances after outliers removal: {}'.format(len(new_data)))\n",
    "print('----' * 44)\n",
    "\n",
    "# -----> V12 removing outliers from fraud transactions\n",
    "v12_fraud = new_data['V12'].loc[new_data['Class'] == 1].values\n",
    "q25, q75 = np.percentile(v12_fraud, 25), np.percentile(v12_fraud, 75)\n",
    "v12_iqr = q75 - q25\n",
    "\n",
    "v12_cut_off = v12_iqr * 1.5\n",
    "v12_lower, v12_upper = q25 - v12_cut_off, q75 + v12_cut_off\n",
    "print('V12 Lower: {}'.format(v12_lower))\n",
    "print('V12 Upper: {}'.format(v12_upper))\n",
    "outliers = [x for x in v12_fraud if x < v12_lower or x > v12_upper]\n",
    "print('V12 outliers: {}'.format(outliers))\n",
    "print('Feature V12 Outliers for Fraud Cases: {}'.format(len(outliers)))\n",
    "new_data = new_data.drop(new_data[(new_data['V12'] > v12_upper) | (new_data['V12'] < v12_lower)].index)\n",
    "print('Number of Instances after outliers removal: {}'.format(len(new_data)))\n",
    "print('----' * 44)\n",
    "\n",
    "# Removing outliers V10 Feature\n",
    "v10_fraud = new_data['V10'].loc[new_data['Class'] == 1].values\n",
    "q25, q75 = np.percentile(v10_fraud, 25), np.percentile(v10_fraud, 75)\n",
    "v10_iqr = q75 - q25\n",
    "\n",
    "v10_cut_off = v10_iqr * 1.5\n",
    "v10_lower, v10_upper = q25 - v10_cut_off, q75 + v10_cut_off\n",
    "print('V10 Lower: {}'.format(v10_lower))\n",
    "print('V10 Upper: {}'.format(v10_upper))\n",
    "outliers = [x for x in v10_fraud if x < v10_lower or x > v10_upper]\n",
    "print('V10 outliers: {}'.format(outliers))\n",
    "print('Feature V10 Outliers for Fraud Cases: {}'.format(len(outliers)))\n",
    "new_data = new_data.drop(new_data[(new_data['V10'] > v10_upper) | (new_data['V10'] < v10_lower)].index)\n",
    "print('Number of Instances after outliers removal: {}'.format(len(new_data)))"
   ]
  },
  {
   "cell_type": "markdown",
   "metadata": {},
   "source": [
    "# Klasifikatori (Undersampling)\n",
    "\n",
    "Sada ćemo istrenirati četiri klasifikatora da detektuju lažne transakcije, tj pronevere. U ovom delu testiraćemo klasifikatore na subsample-u. Koristićemo logisticku regresiju, KNearestNeighbours, Support Vector Machine i Decision Tree klasifikatore. Logistička regresija pokazuje najbolje rezultate na obučavajućem skupu. Drugi najbolji klasifikator je SVM.\n",
    "\n",
    "Prvo ćemo da podelimo podatke iz sumbsample-a u setove za obučavanje i testiranje.\n",
    "\n",
    "<b>Logistička regresija</b> modeluje i procenjuje verovatnoću da će se neki događaj desiti, i verovatnoću da se neće desiti za datu opservaciju u zavisnosti od parametara. Ili procenjuje verovatnoću da je opservacija u određenoj kategoriji. Linearna regresija koristi jednu kvantitativnu varijablu da bi procenila drugu kvantitativnu varijablu. U ovom slučaju lin. regresija neće proći zato što klasa pronevere je dihotomna varijabla (1 ili 0) i nije kvantitativna.\n",
    "\n",
    "![title](logReg.png)\n",
    "\n",
    "Kad su klase linearno separabilne, <b>SVM</b> će naći hiperravan sa najvećom marginom da ih razdvoji, i to će biti optimalna hiperravan. Kad klase nisu linearno separabilne SVM će imati stepen tolerancije, tj koliko će tačaka da dozvoli da se pogrešno klasifikuju. Prednosti su mu što može da modeluje i linearno separabilne i neseparabilne i garantuje optimalnost.\n",
    "\n",
    "![title](svm.png)\n",
    "\n",
    "<b>Decision Trees</b> (DTs) je metod nadgledanog učenja koji se koristi za klasifikaciju i regresiju. Decision trees koriste if-then-else pravila odlučivanja. Što je dublje stablo, to su kompleksnija pravila odlučivanja i model je kvalitetniji.\n",
    "\n",
    "\n",
    "![title](dt.png)\n",
    "\n",
    "<b>KNN</b> pamti obučavajući skup i pronalazi K najbližih komšija iz istog za svaku opservaciju, zatim se glasa kojoj klasi više pripada, što znači da će testiranje dugo da traje dok je obučavanje brzo. Može da modeluje bilo kakvo razdvajanje među podacima i dobar je za velike obučavajuće skupove.\n",
    "\n",
    "![title](knn.png)"
   ]
  },
  {
   "cell_type": "code",
   "execution_count": 15,
   "metadata": {},
   "outputs": [],
   "source": [
    "X = new_data.drop('Class', axis=1)\n",
    "y = new_data['Class']\n",
    "\n",
    "# Ovo se koristi samo za undersampling.\n",
    "X_train, X_test, y_train, y_test = train_test_split(X, y, test_size=0.2, random_state=42)\n",
    "\n",
    "# Turn the values into an array for feeding the classification algorithms.\n",
    "X_train = X_train.values\n",
    "X_test = X_test.values\n",
    "y_train = y_train.values\n",
    "y_test = y_test.values\n",
    "\n",
    "classifiers = {\n",
    "    \"LogisiticRegression\": LogisticRegression(),\n",
    "    \"KNearest\": KNeighborsClassifier(),\n",
    "    \"Support Vector Classifier\": SVC(),\n",
    "    \"DecisionTreeClassifier\": DecisionTreeClassifier(),\n",
    "}"
   ]
  },
  {
   "cell_type": "code",
   "execution_count": 16,
   "metadata": {},
   "outputs": [
    {
     "name": "stdout",
     "output_type": "stream",
     "text": [
      "Classifiers:  LogisticRegression Has a training score of 94.0 % accuracy score\n",
      "Classifiers:  KNeighborsClassifier Has a training score of 93.0 % accuracy score\n",
      "Classifiers:  SVC Has a training score of 92.0 % accuracy score\n",
      "Classifiers:  DecisionTreeClassifier Has a training score of 90.0 % accuracy score\n"
     ]
    }
   ],
   "source": [
    "for key, classifier in classifiers.items():\n",
    "    classifier.fit(X_train, y_train)\n",
    "    training_score = cross_val_score(classifier, X_train, y_train, cv=5) # 5 zbog broja foldova\n",
    "    print(\"Classifiers: \", classifier.__class__.__name__, \"Has a training score of\",\n",
    "          round(training_score.mean(), 2) * 100, \"% accuracy score\")\n",
    "\n"
   ]
  },
  {
   "cell_type": "markdown",
   "metadata": {},
   "source": [
    "# GridSearchCV\n",
    "\n",
    "U ovom delu koristimo GridSearchCV da bismo našli optimalne parametre za klasifikatore."
   ]
  },
  {
   "cell_type": "code",
   "execution_count": 17,
   "metadata": {},
   "outputs": [],
   "source": [
    "# Logistic Regression\n",
    "log_reg_params = {\"penalty\": ['l1', 'l2'], 'C': [0.001, 0.01, 0.1, 1, 10, 100, 1000]}\n",
    "grid_log_reg = GridSearchCV(LogisticRegression(), log_reg_params)\n",
    "grid_log_reg.fit(X_train,y_train)\n",
    "# We automatically get the logistic regression with the best parameters.\n",
    "log_reg = grid_log_reg.best_estimator_\n",
    "\n",
    "# KNearestNeighbours\n",
    "knears_params = {\"n_neighbors\": list(range(2,5,1)), 'algorithm': ['auto', 'ball_tree', 'kd_tree', 'brute']}\n",
    "grid_knears = GridSearchCV(KNeighborsClassifier(), knears_params)\n",
    "grid_knears.fit(X_train, y_train)\n",
    "# KNears best estimator\n",
    "knears_neighbors = grid_knears.best_estimator_\n",
    "\n",
    "# Support Vector Classifier\n",
    "svc_params = {'C': [0.5, 0.7, 0.9, 1], 'kernel': ['rbf', 'poly', 'sigmoid', 'linear']}\n",
    "grid_svc = GridSearchCV(SVC(), svc_params)\n",
    "grid_svc.fit(X_train, y_train)\n",
    "# SVC best estimator\n",
    "svc = grid_svc.best_estimator_\n",
    "\n",
    "# DecisionTree Classifier\n",
    "tree_params = {\"criterion\": [\"gini\", \"entropy\"], \"max_depth\": list(range(2,4,1)),\n",
    "              \"min_samples_leaf\": list(range(5,7,1))}\n",
    "grid_tree = GridSearchCV(DecisionTreeClassifier(), tree_params)\n",
    "grid_tree.fit(X_train, y_train)\n",
    "# tree best estimator\n",
    "tree_clf = grid_tree.best_estimator_"
   ]
  },
  {
   "cell_type": "markdown",
   "metadata": {},
   "source": [
    "## Testiranje\n",
    "\n",
    "U ovom segmentu testiramo modele obučene na undersample datasetu."
   ]
  },
  {
   "cell_type": "code",
   "execution_count": 18,
   "metadata": {},
   "outputs": [
    {
     "name": "stdout",
     "output_type": "stream",
     "text": [
      "----TESTING UNDERSAMPLING----\n",
      "\n",
      "Cross-validation:\n",
      "Logistic Regression Cross Validation Score:  91.54%\n",
      "Knears Neighbors Cross Validation Score 92.03%\n",
      "Support Vector Classifier Cross Validation Score 92.03%\n",
      "DecisionTree Classifier Cross Validation Score 90.45%\n",
      "\n",
      "Recall score:\n",
      "Logistic Regression UnderSample Test Recall Score: 0.8775510204081632\n",
      "KNN UnderSample Test Recall Score: 0.8877551020408163\n",
      "SVC UnderSample Test Recall Score: 0.9183673469387755\n",
      "Tree_clf UnderSample Test Recall Score: 0.8571428571428571\n",
      "\n",
      "CLASSIFICATION REPORT (UNDERSAMPLE) : \n",
      "Logistic Regression:\n",
      "              precision    recall  f1-score   support\n",
      "\n",
      "           0       1.00      0.97      0.99     56863\n",
      "           1       0.05      0.88      0.10        98\n",
      "\n",
      "    accuracy                           0.97     56961\n",
      "   macro avg       0.53      0.92      0.54     56961\n",
      "weighted avg       1.00      0.97      0.98     56961\n",
      "\n",
      "KNears Neighbors:\n",
      "              precision    recall  f1-score   support\n",
      "\n",
      "           0       1.00      0.98      0.99     56863\n",
      "           1       0.09      0.89      0.17        98\n",
      "\n",
      "    accuracy                           0.98     56961\n",
      "   macro avg       0.55      0.94      0.58     56961\n",
      "weighted avg       1.00      0.98      0.99     56961\n",
      "\n",
      "Support Vector Classifier:\n",
      "              precision    recall  f1-score   support\n",
      "\n",
      "           0       1.00      0.98      0.99     56863\n",
      "           1       0.08      0.92      0.15        98\n",
      "\n",
      "    accuracy                           0.98     56961\n",
      "   macro avg       0.54      0.95      0.57     56961\n",
      "weighted avg       1.00      0.98      0.99     56961\n",
      "\n",
      "Decision Tree Classifier:\n",
      "              precision    recall  f1-score   support\n",
      "\n",
      "           0       1.00      0.97      0.98     56863\n",
      "           1       0.04      0.86      0.09        98\n",
      "\n",
      "    accuracy                           0.97     56961\n",
      "   macro avg       0.52      0.91      0.53     56961\n",
      "weighted avg       1.00      0.97      0.98     56961\n",
      "\n"
     ]
    }
   ],
   "source": [
    "\n",
    "from sklearn.metrics import recall_score\n",
    "\n",
    "print('----TESTING UNDERSAMPLING----')\n",
    "print('\\nCross-validation:')\n",
    "log_reg_score = cross_val_score(log_reg, X_test, y_test, cv=5)\n",
    "print('Logistic Regression Cross Validation Score: ', round(log_reg_score.mean() * 100, 2).astype(str) + '%')\n",
    "\n",
    "knears_score = cross_val_score(knears_neighbors, X_test, y_test, cv=5)\n",
    "print('Knears Neighbors Cross Validation Score', round(knears_score.mean() * 100, 2).astype(str) + '%')\n",
    "\n",
    "svc_score = cross_val_score(svc, X_test, y_test, cv=5)\n",
    "print('Support Vector Classifier Cross Validation Score', round(svc_score.mean() * 100, 2).astype(str) + '%')\n",
    "\n",
    "tree_score = cross_val_score(tree_clf, X_test, y_test, cv=5)\n",
    "print('DecisionTree Classifier Cross Validation Score', round(tree_score.mean() * 100, 2).astype(str) + '%')\n",
    "\n",
    "print('\\nRecall score:')\n",
    "# Logistic Regression with Under-Sampling\n",
    "y_pred_log_reg = log_reg.predict(original_Xtest)\n",
    "log_reg_undersample_score = recall_score(original_ytest, y_pred_log_reg)\n",
    "print('Logistic Regression UnderSample Test Recall Score: {}'.format(log_reg_undersample_score))\n",
    "\n",
    "# KNN with Under-Sampling\n",
    "y_pred_knears = knears_neighbors.predict(original_Xtest)\n",
    "knears_undersample_score = recall_score(original_ytest, y_pred_knears)\n",
    "print('KNN UnderSample Test Recall Score: {}'.format(knears_undersample_score))\n",
    "\n",
    "# SVC with Under-Sampling\n",
    "y_pred_svc = svc.predict(original_Xtest)\n",
    "svc_undersample_score = recall_score(original_ytest, y_pred_svc)\n",
    "print('SVC UnderSample Test Recall Score: {}'.format(svc_undersample_score))\n",
    "\n",
    "# DecisionTree with Under-Sampling\n",
    "y_pred_tree_clf = tree_clf.predict(original_Xtest)\n",
    "tree_clf_undersample_score = recall_score(original_ytest, y_pred_tree_clf)\n",
    "print('Tree_clf UnderSample Test Recall Score: {}'.format(tree_clf_undersample_score))\n",
    "\n",
    "print('\\nCLASSIFICATION REPORT (UNDERSAMPLE) : ')\n",
    "print('Logistic Regression:')\n",
    "print(classification_report(original_ytest, y_pred_log_reg))\n",
    "\n",
    "print('KNears Neighbors:')\n",
    "print(classification_report(original_ytest, y_pred_knears))\n",
    "\n",
    "print('Support Vector Classifier:')\n",
    "print(classification_report(original_ytest, y_pred_svc))\n",
    "\n",
    "print('Decision Tree Classifier:')\n",
    "print(classification_report(original_ytest, y_pred_tree_clf))"
   ]
  },
  {
   "cell_type": "markdown",
   "metadata": {},
   "source": [
    "## Klasifikatori (Oversampling)\n",
    "\n",
    "Iskoristićemo best_estimator parametre od malo pre i svaki od klasifikatora ćemo da obučimo na oversample datasetu."
   ]
  },
  {
   "cell_type": "code",
   "execution_count": 19,
   "metadata": {},
   "outputs": [
    {
     "name": "stdout",
     "output_type": "stream",
     "text": [
      "Logistic Regression fitting oversample data took :14.823848009109497 sec\n",
      "KNN fitting oversample data took :7.282416582107544 sec\n",
      "Decision Tree fitting oversample data took :7.83944845199585 sec\n"
     ]
    }
   ],
   "source": [
    "import time\n",
    "\n",
    "# Logistic Regression\n",
    "t0 = time.time()\n",
    "log_reg_sm = grid_log_reg.best_estimator_\n",
    "log_reg_sm.fit(Xsm_train, ysm_train)\n",
    "t1 = time.time()\n",
    "print(\"Logistic Regression fitting oversample data took :{} sec\".format(t1 - t0))\n",
    "\n",
    "# KNN\n",
    "t2 = time.time()\n",
    "knears_sm = grid_knears.best_estimator_\n",
    "knears_sm.fit(Xsm_train, ysm_train)\n",
    "t3 = time.time()\n",
    "print(\"KNN fitting oversample data took :{} sec\".format(t3 - t2))\n",
    "\n",
    "# Support Vector Classifier\n",
    "svc_params = {'C': [0.5, 0.7, 0.9, 1], 'kernel': ['linear']}\n",
    "grid_svc = GridSearchCV(SVC(), svc_params)\n",
    "grid_svc.fit(X_train, y_train)\n",
    "# SVC best estimator\n",
    "svc = grid_svc.best_estimator_\n",
    "\n",
    "# SVM\n",
    "#t4 = time.time()\n",
    "#svc_sm = grid_svc.best_estimator_\n",
    "#svc_sm.fit(Xsm_train, ysm_train)\n",
    "#t5 = time.time()\n",
    "#print(\"SVM fitting oversample data took :{} sec\".format(t5 - t4))\n",
    "\n",
    "## DecisionTrees\n",
    "t6 = time.time()\n",
    "tree_clf_sm = grid_tree.best_estimator_\n",
    "tree_clf_sm.fit(Xsm_train, ysm_train)\n",
    "t7 = time.time()\n",
    "print(\"Decision Tree fitting oversample data took :{} sec\".format(t7 - t6))"
   ]
  },
  {
   "cell_type": "code",
   "execution_count": 20,
   "metadata": {},
   "outputs": [
    {
     "name": "stdout",
     "output_type": "stream",
     "text": [
      "----TESTING OVERSAMPLING----\n",
      "\n",
      "CLASSIFICATION REPORT (OVERSAMPLE) : \n",
      "Logistic Regression:\n",
      "              precision    recall  f1-score   support\n",
      "\n",
      "           0       1.00      0.99      0.99     56863\n",
      "           1       0.12      0.87      0.20        98\n",
      "\n",
      "    accuracy                           0.99     56961\n",
      "   macro avg       0.56      0.93      0.60     56961\n",
      "weighted avg       1.00      0.99      0.99     56961\n",
      "\n",
      "KNears Neighbors:\n",
      "              precision    recall  f1-score   support\n",
      "\n",
      "           0       1.00      1.00      1.00     56863\n",
      "           1       0.66      0.81      0.72        98\n",
      "\n",
      "    accuracy                           1.00     56961\n",
      "   macro avg       0.83      0.90      0.86     56961\n",
      "weighted avg       1.00      1.00      1.00     56961\n",
      "\n",
      "Decision Tree Classifier:\n",
      "              precision    recall  f1-score   support\n",
      "\n",
      "           0       1.00      0.96      0.98     56863\n",
      "           1       0.04      0.84      0.07        98\n",
      "\n",
      "    accuracy                           0.96     56961\n",
      "   macro avg       0.52      0.90      0.53     56961\n",
      "weighted avg       1.00      0.96      0.98     56961\n",
      "\n"
     ]
    }
   ],
   "source": [
    "print('----TESTING OVERSAMPLING----')\n",
    "\n",
    "y_pred_log_reg_sm = log_reg_sm.predict(original_Xtest)\n",
    "y_pred_knears_sm = knears_sm.predict(original_Xtest)\n",
    "#y_pred_svc_sm = svc_sm.predict(original_X_test)\n",
    "y_pred_tree_clf_sm = tree_clf_sm.predict(original_Xtest)\n",
    "\n",
    "print('\\nCLASSIFICATION REPORT (OVERSAMPLE) : ')\n",
    "print('Logistic Regression:')\n",
    "print(classification_report(original_ytest, y_pred_log_reg_sm))\n",
    "\n",
    "print('KNears Neighbors:')\n",
    "print(classification_report(original_ytest, y_pred_knears_sm))\n",
    "\n",
    "#print('Support Vector Classifier:')\n",
    "#print(classification_report(original_ytest, y_pred_svc_sm))\n",
    "\n",
    "print('Decision Tree Classifier:')\n",
    "print(classification_report(original_ytest, y_pred_tree_clf_sm))"
   ]
  },
  {
   "cell_type": "markdown",
   "metadata": {},
   "source": [
    "# Neuronska mreža\n",
    "\n",
    "U ovom delu implementiracemo neuronsku mrežu. Cilj je da vidimo kako se mreža ponaša u undersample i oversample datasetovima i da vidimo koliko precizno mreža klasifikuje pronevere. Takođe je bitno da mreža dobro klasifikuje i obične transakcije.\n",
    "\n",
    "Mreža će imati dva skrivena sloja od po 32 cvora, broj cvorova ulaznog sloja je broj feature-a i jedan bias čvor, što je ukupno 32, i jedan izlazni čvor koji može dati rezultat 1 ili 0. (Pronevera ili nije)\n",
    "\n",
    "Learning rate će biti 0.001, optimizator AdamOptimizer, aktivaciona funkcija Relu i sparse categorical cross entropy koja daje verovatnoću da li je slucaj pronevera ili nije i odabrace slučaj sa većom verovatnoćom."
   ]
  },
  {
   "cell_type": "code",
   "execution_count": 21,
   "metadata": {},
   "outputs": [
    {
     "name": "stdout",
     "output_type": "stream",
     "text": [
      "WARNING:tensorflow:From C:\\Users\\Filip\\Anaconda3\\envs\\untitled\\lib\\site-packages\\tensorflow\\python\\framework\\op_def_library.py:263: colocate_with (from tensorflow.python.framework.ops) is deprecated and will be removed in a future version.\n",
      "Instructions for updating:\n",
      "Colocations handled automatically by placer.\n",
      "_________________________________________________________________\n",
      "Layer (type)                 Output Shape              Param #   \n",
      "=================================================================\n",
      "dense_1 (Dense)              (None, 30)                930       \n",
      "_________________________________________________________________\n",
      "dense_2 (Dense)              (None, 32)                992       \n",
      "_________________________________________________________________\n",
      "dense_3 (Dense)              (None, 32)                1056      \n",
      "_________________________________________________________________\n",
      "dense_4 (Dense)              (None, 2)                 66        \n",
      "=================================================================\n",
      "Total params: 3,044\n",
      "Trainable params: 3,044\n",
      "Non-trainable params: 0\n",
      "_________________________________________________________________\n",
      "WARNING:tensorflow:From C:\\Users\\Filip\\Anaconda3\\envs\\untitled\\lib\\site-packages\\tensorflow\\python\\ops\\math_ops.py:3066: to_int32 (from tensorflow.python.ops.math_ops) is deprecated and will be removed in a future version.\n",
      "Instructions for updating:\n",
      "Use tf.cast instead.\n",
      "Train on 605 samples, validate on 152 samples\n",
      "Epoch 1/20\n",
      " - 4s - loss: 0.5613 - acc: 0.6496 - val_loss: 0.3986 - val_acc: 0.8158\n",
      "Epoch 2/20\n",
      " - 0s - loss: 0.3506 - acc: 0.8893 - val_loss: 0.2790 - val_acc: 0.9079\n",
      "Epoch 3/20\n",
      " - 0s - loss: 0.2666 - acc: 0.9256 - val_loss: 0.2233 - val_acc: 0.9211\n",
      "Epoch 4/20\n",
      " - 0s - loss: 0.2091 - acc: 0.9355 - val_loss: 0.2033 - val_acc: 0.9079\n",
      "Epoch 5/20\n",
      " - 0s - loss: 0.1681 - acc: 0.9405 - val_loss: 0.1916 - val_acc: 0.9276\n",
      "Epoch 6/20\n",
      " - 0s - loss: 0.1445 - acc: 0.9438 - val_loss: 0.1793 - val_acc: 0.9342\n",
      "Epoch 7/20\n",
      " - 0s - loss: 0.1229 - acc: 0.9521 - val_loss: 0.1775 - val_acc: 0.9342\n",
      "Epoch 8/20\n",
      " - 0s - loss: 0.1064 - acc: 0.9587 - val_loss: 0.1848 - val_acc: 0.9342\n",
      "Epoch 9/20\n",
      " - 0s - loss: 0.0947 - acc: 0.9636 - val_loss: 0.1872 - val_acc: 0.9342\n",
      "Epoch 10/20\n",
      " - 0s - loss: 0.0855 - acc: 0.9719 - val_loss: 0.1772 - val_acc: 0.9408\n",
      "Epoch 11/20\n",
      " - 0s - loss: 0.0757 - acc: 0.9752 - val_loss: 0.1826 - val_acc: 0.9408\n",
      "Epoch 12/20\n",
      " - 0s - loss: 0.0682 - acc: 0.9818 - val_loss: 0.1919 - val_acc: 0.9408\n",
      "Epoch 13/20\n",
      " - 0s - loss: 0.0619 - acc: 0.9785 - val_loss: 0.1935 - val_acc: 0.9408\n",
      "Epoch 14/20\n",
      " - 0s - loss: 0.0558 - acc: 0.9851 - val_loss: 0.1980 - val_acc: 0.9408\n",
      "Epoch 15/20\n",
      " - 0s - loss: 0.0519 - acc: 0.9851 - val_loss: 0.1999 - val_acc: 0.9342\n",
      "Epoch 16/20\n",
      " - 0s - loss: 0.0510 - acc: 0.9835 - val_loss: 0.2012 - val_acc: 0.9276\n",
      "Epoch 17/20\n",
      " - 0s - loss: 0.0437 - acc: 0.9901 - val_loss: 0.2061 - val_acc: 0.9276\n",
      "Epoch 18/20\n",
      " - 0s - loss: 0.0397 - acc: 0.9917 - val_loss: 0.2127 - val_acc: 0.9276\n",
      "Epoch 19/20\n",
      " - 0s - loss: 0.0362 - acc: 0.9917 - val_loss: 0.2183 - val_acc: 0.9211\n",
      "Epoch 20/20\n",
      " - 0s - loss: 0.0349 - acc: 0.9917 - val_loss: 0.2042 - val_acc: 0.9276\n",
      "Neural Net (Undersample):\n",
      "              precision    recall  f1-score   support\n",
      "\n",
      "           0       1.00      0.97      0.99     56863\n",
      "           1       0.06      0.95      0.11        98\n",
      "\n",
      "    accuracy                           0.97     56961\n",
      "   macro avg       0.53      0.96      0.55     56961\n",
      "weighted avg       1.00      0.97      0.98     56961\n",
      "\n"
     ]
    }
   ],
   "source": [
    "# ---------UNDERSAMPLE MODEL---------\n",
    "n_inputs = X_train.shape[1]\n",
    "\n",
    "undersample_model = Sequential([\n",
    "    Dense(n_inputs, input_shape=(n_inputs, ), activation='relu'),\n",
    "    Dense(32, activation='relu'),\n",
    "    Dense(32, activation='relu'),\n",
    "    Dense(2, activation='softmax')\n",
    "])\n",
    "\n",
    "undersample_model.summary()\n",
    "undersample_model.compile(Adam(lr=0.001), loss='sparse_categorical_crossentropy', metrics=['accuracy'])\n",
    "undersample_model.fit(X_train, y_train, validation_split=0.2, batch_size=25, epochs=20, shuffle=True, verbose=2)\n",
    "undersample_predictions = undersample_model.predict(original_Xtest, batch_size=200, verbose=0)\n",
    "\n",
    "undersample_fraud_predictions = undersample_model.predict_classes(original_Xtest, batch_size=200, verbose=0)\n",
    "\n",
    "print('Neural Net (Undersample):')\n",
    "print(classification_report(original_ytest, undersample_fraud_predictions))\n"
   ]
  },
  {
   "cell_type": "code",
   "execution_count": 22,
   "metadata": {},
   "outputs": [
    {
     "name": "stdout",
     "output_type": "stream",
     "text": [
      "_________________________________________________________________\n",
      "Layer (type)                 Output Shape              Param #   \n",
      "=================================================================\n",
      "dense_1 (Dense)              (None, 30)                930       \n",
      "_________________________________________________________________\n",
      "dense_2 (Dense)              (None, 32)                992       \n",
      "_________________________________________________________________\n",
      "dense_3 (Dense)              (None, 32)                1056      \n",
      "_________________________________________________________________\n",
      "dense_4 (Dense)              (None, 2)                 66        \n",
      "=================================================================\n",
      "Total params: 3,044\n",
      "Trainable params: 3,044\n",
      "Non-trainable params: 0\n",
      "_________________________________________________________________\n",
      "Train on 363923 samples, validate on 90981 samples\n",
      "Epoch 1/20\n",
      " - 8s - loss: 0.0563 - acc: 0.9808 - val_loss: 0.0114 - val_acc: 0.9986\n",
      "Epoch 2/20\n",
      " - 9s - loss: 0.0103 - acc: 0.9979 - val_loss: 0.0043 - val_acc: 0.9997\n",
      "Epoch 3/20\n",
      " - 11s - loss: 0.0068 - acc: 0.9988 - val_loss: 0.0023 - val_acc: 1.0000\n",
      "Epoch 4/20\n",
      " - 9s - loss: 0.0054 - acc: 0.9992 - val_loss: 0.0053 - val_acc: 0.9991\n",
      "Epoch 5/20\n",
      " - 9s - loss: 0.0043 - acc: 0.9994 - val_loss: 6.5912e-04 - val_acc: 1.0000\n",
      "Epoch 6/20\n",
      " - 9s - loss: 0.0039 - acc: 0.9993 - val_loss: 0.0021 - val_acc: 0.9998\n",
      "Epoch 7/20\n",
      " - 11s - loss: 0.0027 - acc: 0.9995 - val_loss: 7.1802e-04 - val_acc: 1.0000\n",
      "Epoch 8/20\n",
      " - 10s - loss: 0.0024 - acc: 0.9995 - val_loss: 8.1646e-04 - val_acc: 1.0000\n",
      "Epoch 9/20\n",
      " - 12s - loss: 0.0023 - acc: 0.9995 - val_loss: 0.0025 - val_acc: 0.9990\n",
      "Epoch 10/20\n",
      " - 10s - loss: 0.0020 - acc: 0.9996 - val_loss: 8.2479e-04 - val_acc: 1.0000\n",
      "Epoch 11/20\n",
      " - 10s - loss: 0.0018 - acc: 0.9996 - val_loss: 5.2370e-04 - val_acc: 0.9999\n",
      "Epoch 12/20\n",
      " - 10s - loss: 0.0021 - acc: 0.9995 - val_loss: 0.0025 - val_acc: 0.9997\n",
      "Epoch 13/20\n",
      " - 9s - loss: 0.0016 - acc: 0.9996 - val_loss: 9.0130e-04 - val_acc: 1.0000\n",
      "Epoch 14/20\n",
      " - 11s - loss: 0.0015 - acc: 0.9997 - val_loss: 1.6128e-04 - val_acc: 1.0000\n",
      "Epoch 15/20\n",
      " - 10s - loss: 0.0016 - acc: 0.9996 - val_loss: 2.1322e-04 - val_acc: 1.0000\n",
      "Epoch 16/20\n",
      " - 9s - loss: 0.0016 - acc: 0.9996 - val_loss: 2.4332e-04 - val_acc: 1.0000\n",
      "Epoch 17/20\n",
      " - 10s - loss: 0.0010 - acc: 0.9998 - val_loss: 9.0595e-05 - val_acc: 1.0000\n",
      "Epoch 18/20\n",
      " - 10s - loss: 0.0017 - acc: 0.9996 - val_loss: 3.2454e-04 - val_acc: 1.0000\n",
      "Epoch 19/20\n",
      " - 9s - loss: 0.0010 - acc: 0.9998 - val_loss: 1.2445e-04 - val_acc: 1.0000\n",
      "Epoch 20/20\n",
      " - 9s - loss: 0.0014 - acc: 0.9996 - val_loss: 4.4816e-04 - val_acc: 1.0000\n",
      "Neural Net (Oversample(SMOTE)):\n",
      "              precision    recall  f1-score   support\n",
      "\n",
      "           0       1.00      1.00      1.00     56863\n",
      "           1       0.78      0.76      0.77        98\n",
      "\n",
      "    accuracy                           1.00     56961\n",
      "   macro avg       0.89      0.88      0.88     56961\n",
      "weighted avg       1.00      1.00      1.00     56961\n",
      "\n"
     ]
    }
   ],
   "source": [
    "# ---------OVERSAMPLE MODEL---------\n",
    "n_inputs = Xsm_train.shape[1] # broj feature-a (32)\n",
    "\n",
    "oversample_model = Sequential([\n",
    "    Dense(n_inputs, input_shape=(n_inputs, ), activation='relu'),\n",
    "    Dense(32, activation='relu'),\n",
    "    Dense(32, activation='relu'),\n",
    "    Dense(2, activation='softmax')\n",
    "])\n",
    "\n",
    "undersample_model.summary()\n",
    "oversample_model.compile(Adam(lr=0.001), loss='sparse_categorical_crossentropy', metrics=['accuracy'])\n",
    "oversample_model.fit(Xsm_train, ysm_train, validation_split=0.2, batch_size=300, epochs=20, shuffle=True, verbose=2)\n",
    "\n",
    "oversample_fraud_predictions = oversample_model.predict_classes(original_Xtest, batch_size=200, verbose=0)\n",
    "\n",
    "print('Neural Net (Oversample(SMOTE)):')\n",
    "print(classification_report(original_ytest, oversample_fraud_predictions))"
   ]
  },
  {
   "cell_type": "markdown",
   "metadata": {},
   "source": [
    "## Zaključak\n",
    "\n",
    "Modeli koji su se najbolje pokazali u detekciji pronevera su Logistic regression i SVM. Implementirajuci SMOTE na modele dobili smo poboljšanu klasifikaciju običnih transakcija nego u modelima obučenim na undersamplingu, što je isto bitno jer u realnoj situaciji ne bi bilo poželjno da veliki broj ljudi pravi normalne transakcije i da im banka blokira karticu zato što je model klasifikovao slučaj kao proneveru. Sa druge strane, modeli obuceni na SMOTE su se lošije pokazali u detekciji pronevera nego modeli obučeni na udersample datasetu, ali brisanje outlier-a je odrađeno samo na undersample datasetu, sledeći korak za poboljšanje kvaliteta bi bio implementirati isto i na oversample-ovanom datasetu."
   ]
  },
  {
   "cell_type": "code",
   "execution_count": null,
   "metadata": {},
   "outputs": [],
   "source": []
  }
 ],
 "metadata": {
  "kernelspec": {
   "display_name": "Python 3",
   "language": "python",
   "name": "python3"
  }
 },
 "nbformat": 4,
 "nbformat_minor": 2
}
